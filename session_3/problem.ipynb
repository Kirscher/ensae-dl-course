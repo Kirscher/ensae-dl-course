{
 "cells": [
  {
   "cell_type": "code",
   "execution_count": 169,
   "metadata": {},
   "outputs": [],
   "source": [
    "# MNIST with an MLP, from scratch\n",
    "\n",
    "# - Step 1: build an MLP from scratch to solve MNIST. Question set: https://fleuret.org/dlc/materials/dlc-practical-3.pdf\n",
    "# - Step 2: debug your network with backprop ninja and a reference implementation using torch's .backward()\n",
    "# - Step 3: build the same MLP but will full pytorch code (nn.Linear, etc.)"
   ]
  },
  {
   "cell_type": "code",
   "execution_count": 170,
   "metadata": {},
   "outputs": [],
   "source": [
    "import math\n",
    "import torch\n",
    "from torch import nn\n",
    "import matplotlib.pyplot as plt\n",
    "%matplotlib inline"
   ]
  },
  {
   "cell_type": "code",
   "execution_count": 1,
   "metadata": {},
   "outputs": [],
   "source": [
    "from utils import load_data"
   ]
  },
  {
   "cell_type": "code",
   "execution_count": 172,
   "metadata": {},
   "outputs": [
    {
     "name": "stdout",
     "output_type": "stream",
     "text": [
      "* Using MNIST\n",
      "** Reduce the data-set (use --full for the full thing)\n",
      "** Use 1000 train and 1000 test samples\n"
     ]
    }
   ],
   "source": [
    "train_input, train_target, test_input, test_target = load_data(one_hot_labels = True, normalize = True)"
   ]
  },
  {
   "cell_type": "code",
   "execution_count": 173,
   "metadata": {},
   "outputs": [
    {
     "data": {
      "text/plain": [
       "<matplotlib.image.AxesImage at 0x7ff25c995c60>"
      ]
     },
     "execution_count": 173,
     "metadata": {},
     "output_type": "execute_result"
    },
    {
     "data": {
      "image/png": "[encoded data removed]",
      "text/plain": [
       "<Figure size 640x480 with 1 Axes>"
      ]
     },
     "metadata": {},
     "output_type": "display_data"
    }
   ],
   "source": [
    "plt.imshow(train_input[4].view((28,28)))"
   ]
  },
  {
   "cell_type": "code",
   "execution_count": 174,
   "metadata": {},
   "outputs": [],
   "source": [
    "def compute_accuracy (preds, targets):\n",
    "    \"\"\" Computes the accuracy between predictions and targets. Data is expected to be one-hot encoded. \"\"\"\n",
    "    _, idx1 = torch.max(preds, dim=1)\n",
    "    _, idx2 = torch.max(targets, dim=1)\n",
    "    d = idx1 == idx2\n",
    "    return d.int().float().mean().item()"
   ]
  },
  {
   "cell_type": "code",
   "execution_count": 175,
   "metadata": {},
   "outputs": [
    {
     "data": {
      "text/plain": [
       "0.75"
      ]
     },
     "execution_count": 175,
     "metadata": {},
     "output_type": "execute_result"
    }
   ],
   "source": [
    "# unit test\n",
    "# this cell should return 0.75\n",
    "preds = torch.zeros((4,7))\n",
    "preds[0,1] = 1\n",
    "preds[1,4] = 1\n",
    "preds[2,2] = 1\n",
    "preds[3,6] = 1\n",
    "targets = torch.zeros((4,7))\n",
    "targets[0,1] = 1\n",
    "targets[1,4] = 1\n",
    "targets[2,2] = 1\n",
    "targets[3,2] = 1\n",
    "compute_accuracy(preds, targets)"
   ]
  },
  {
   "cell_type": "code",
   "execution_count": 176,
   "metadata": {},
   "outputs": [],
   "source": [
    "# The functions should have no python loop, and use in particular torch.tanh, torch.exp, torch.mul, and torch.pow\n",
    "def sigma(x):\n",
    "    return torch.tanh(x)\n",
    "\n",
    "def dsigma(x):\n",
    "    return 1 - torch.pow(sigma(x), 2)"
   ]
  },
  {
   "cell_type": "code",
   "execution_count": 177,
   "metadata": {},
   "outputs": [],
   "source": [
    "def loss (v,t):\n",
    "    return (v - t).pow(2).sum()\n",
    "\n",
    "def dloss(v,t):\n",
    "    return 2 * (v - t)"
   ]
  },
  {
   "cell_type": "code",
   "execution_count": 178,
   "metadata": {},
   "outputs": [
    {
     "data": {
      "text/plain": [
       "tensor([[ 2.2774,  0.8057,  1.0494,  3.4660,  0.1409,  1.9316],\n",
       "        [-5.3371,  2.9470,  0.9686, -0.6732,  2.0610,  2.2667],\n",
       "        [-1.3861, -4.2525,  0.6948,  5.4074, -1.3290,  1.5755]])"
      ]
     },
     "execution_count": 178,
     "metadata": {},
     "output_type": "execute_result"
    }
   ],
   "source": [
    "# sanity check\n",
    "v = torch.randn((3, 6), dtype=torch.float32)\n",
    "t = torch.randn((3, 6), dtype=torch.float32)\n",
    "l=loss(v,t)\n",
    "dloss(v,t)"
   ]
  },
  {
   "cell_type": "code",
   "execution_count": 179,
   "metadata": {},
   "outputs": [],
   "source": [
    "# multiply targets by 0.9 to be in the range of tanh\n",
    "train_target *= 0.9\n",
    "test_target *= 0.9"
   ]
  },
  {
   "cell_type": "markdown",
   "metadata": {},
   "source": [
    "### Step 1: Backprop ninja"
   ]
  },
  {
   "cell_type": "code",
   "execution_count": 180,
   "metadata": {},
   "outputs": [],
   "source": [
    "# utility function we will use later when comparing manual gradients to PyTorch gradients\n",
    "# DO NOT MODIFY IT\n",
    "#\n",
    "def cmp(s, dt, t):\n",
    "  ex = torch.all(dt == t.grad).item()\n",
    "  app = torch.allclose(dt, t.grad)\n",
    "  maxdiff = (dt - t.grad).abs().max().item()\n",
    "  print(f'{s:15s} | exact: {str(ex):5s} | approximate: {str(app):5s} | maxdiff: {maxdiff}')"
   ]
  },
  {
   "cell_type": "code",
   "execution_count": 219,
   "metadata": {},
   "outputs": [],
   "source": [
    "torch.manual_seed(1337)\n",
    "epsilon = 1e-6\n",
    "w1 = torch.empty((50, 784)).normal_(0, epsilon) # 50 neurons, 784 inputs\n",
    "b1 = torch.empty(50).normal_(0, epsilon) # 50 neurons\n",
    "w2 = torch.empty((10, 50)).normal_(0, epsilon) # 10 outputs, 50 neurons\n",
    "b2 = torch.empty(10).normal_(0, epsilon) # 10 outputs\n",
    "parameters = [w1, b1, w2, b2]\n",
    "for p in parameters:\n",
    "    p.requires_grad = True"
   ]
  },
  {
   "cell_type": "code",
   "execution_count": 223,
   "metadata": {},
   "outputs": [
    {
     "data": {
      "text/plain": [
       "(torch.Size([5, 10]), tensor(4.0500, grad_fn=<SumBackward0>))"
      ]
     },
     "execution_count": 223,
     "metadata": {},
     "output_type": "execute_result"
    }
   ],
   "source": [
    "x1 = train_input[:5]\n",
    "y1 = train_target[:5]\n",
    "z1 = x1 @ w1.t() + b1\n",
    "h1 = sigma(z1)\n",
    "z2 = h1 @ w2.t() + b2\n",
    "h2 = sigma(z2)\n",
    "l = loss(h2, y1)\n",
    "h2.shape, l"
   ]
  },
  {
   "cell_type": "code",
   "execution_count": 224,
   "metadata": {},
   "outputs": [
    {
     "name": "stdout",
     "output_type": "stream",
     "text": [
      "loss=4.049995422363281\n"
     ]
    }
   ],
   "source": [
    "# Force pytorch to retain grade for intermediate nodes and reset grad for parameters\n",
    "# DO NOT MODIFY THIS CODE\n",
    "#\n",
    "others = [h2,z2,h1,z1]\n",
    "for p in parameters:\n",
    "    p.grad = None\n",
    "for t in others:\n",
    "    t.retain_grad()\n",
    "l.backward()\n",
    "print(f'loss={l}')"
   ]
  },
  {
   "cell_type": "code",
   "execution_count": 232,
   "metadata": {},
   "outputs": [
    {
     "name": "stdout",
     "output_type": "stream",
     "text": [
      "h2              | exact: True  | approximate: True  | maxdiff: 0.0\n",
      "z2              | exact: True  | approximate: True  | maxdiff: 0.0\n",
      "w2              | exact: True  | approximate: True  | maxdiff: 0.0\n",
      "b2              | exact: True  | approximate: True  | maxdiff: 0.0\n",
      "h1              | exact: True  | approximate: True  | maxdiff: 0.0\n",
      "z1              | exact: True  | approximate: True  | maxdiff: 0.0\n",
      "w1              | exact: True  | approximate: True  | maxdiff: 0.0\n",
      "b1              | exact: True  | approximate: True  | maxdiff: 0.0\n"
     ]
    }
   ],
   "source": [
    "# here we compare our gradient to the reference gradient computed by pytorch\n",
    "dl = 1.0\n",
    "dh2 = dloss(h2, y1)\n",
    "cmp('h2',dh2,h2) # should return True\n",
    "dz2 = dh2 * dsigma(z2)  # chain rule\n",
    "cmp('z2',dz2, z2)\n",
    "dw2 = dz2.t() @ h1\n",
    "cmp('w2',dw2, w2)\n",
    "db2 = dz2.sum(dim=0)\n",
    "cmp('b2',db2, b2)\n",
    "dh1 = dz2 @ w2\n",
    "cmp('h1',dh1, h1)\n",
    "dz1 = dh1 * dsigma(z1) \n",
    "cmp('z1', dz1, z1)\n",
    "dw1 = dz1.t() @ x1\n",
    "cmp('w1', dw1, w1)\n",
    "db1 = dz1.sum(dim=0)\n",
    "cmp('b1', db1, b1)"
   ]
  },
  {
   "cell_type": "code",
   "execution_count": 233,
   "metadata": {},
   "outputs": [],
   "source": [
    "lr = 0.1\n",
    "with torch.no_grad():\n",
    "    w1 += -lr * dw1\n",
    "    b1 += -lr * db1\n",
    "    w2 += -lr * dw2\n",
    "    b2 += -lr * db2"
   ]
  },
  {
   "cell_type": "code",
   "execution_count": 234,
   "metadata": {},
   "outputs": [
    {
     "data": {
      "text/plain": [
       "4.049995422363281"
      ]
     },
     "execution_count": 234,
     "metadata": {},
     "output_type": "execute_result"
    }
   ],
   "source": [
    "l = loss(h2, y1)\n",
    "l.item()"
   ]
  },
  {
   "cell_type": "markdown",
   "metadata": {},
   "source": [
    "##### Now that we've checked our gradients are correct, we can implement the network"
   ]
  },
  {
   "cell_type": "code",
   "execution_count": 374,
   "metadata": {},
   "outputs": [],
   "source": [
    "def forward(w1, b1, w2, b2, x):\n",
    "    x1 = x @ w1.t() + b1\n",
    "    h1 = sigma(x1)\n",
    "    x2 = h1 @ w2.t() + b2\n",
    "    h2 = sigma(x2)\n",
    "    return x1, h1, x2, h2\n"
   ]
  },
  {
   "cell_type": "code",
   "execution_count": 362,
   "metadata": {},
   "outputs": [],
   "source": [
    "def backward(w1, b1, w2, b2, x1, y1, h2, z2, h1, z1):\n",
    "    dl = 1.0\n",
    "    dh2 = dloss(h2, y1)\n",
    "    dz2 = dh2 * dsigma(z2)\n",
    "    dw2 = dz2.t() @ h1\n",
    "    db2 = dz2.sum(dim=0)\n",
    "    dh1 = dz2 @ w2\n",
    "    dz1 = dh1 * dsigma(z1) \n",
    "    dw1 = dz1.t() @ x1\n",
    "    db1 = dz1.sum(dim=0)\n",
    "    #print(w1.shape, dw1.shape)\n",
    "    return dw1, db1, dw2, db2"
   ]
  },
  {
   "cell_type": "code",
   "execution_count": 363,
   "metadata": {},
   "outputs": [],
   "source": [
    "def update(w1, b1, w2, b2, dw1, db1, dw2, db2, lr):\n",
    "    with torch.no_grad():\n",
    "        #print(w1.shape, dw1.shape)\n",
    "        w1 += -lr * dw1\n",
    "        b1 += -lr * db1\n",
    "        w2 += -lr * dw2\n",
    "        b2 += -lr * db2\n",
    "    return w1, b1, w2, b2"
   ]
  },
  {
   "cell_type": "code",
   "execution_count": 364,
   "metadata": {},
   "outputs": [],
   "source": [
    "def init():\n",
    "    \"\"\" init a network \"\"\"\n",
    "    w1 = torch.empty((50, 784)).normal_(0, epsilon) # 50 neurons, 784 inputs\n",
    "    b1 = torch.empty(50).normal_(0, epsilon) # 50 neurons\n",
    "    w2 = torch.empty((10, 50)).normal_(0, epsilon) # 10 outputs, 50 neurons\n",
    "    b2 = torch.empty(10).normal_(0, epsilon) # 10 outputs\n",
    "    return w1, b1, w2, b2"
   ]
  },
  {
   "cell_type": "code",
   "execution_count": 365,
   "metadata": {},
   "outputs": [],
   "source": [
    "w1, b1, w2, b2 = init()\n",
    "parameters = [w1, b1, w2, b2]\n",
    "for p in parameters:\n",
    "    p.requires_grad_(True)"
   ]
  },
  {
   "cell_type": "code",
   "execution_count": 368,
   "metadata": {},
   "outputs": [],
   "source": [
    "# main training loop\n",
    "torch.set_printoptions(linewidth=200)\n",
    "def train(w1, b1, w2, b2):\n",
    "    lossi = []\n",
    "    for step in range(10000):\n",
    "        xb = train_input\n",
    "        yb = train_target\n",
    "        num_samples = xb.shape[0]\n",
    "        # forward\n",
    "        x1, h1, x2, h2 = forward(w1, b1, w2, b2, xb)\n",
    "        lsi = loss(h2, yb)\n",
    "        # backward                   \n",
    "        dw1, db1, dw2, db2 = backward(w1, b1, w2, b2, x1, yb, h2, z2, h1, z1)\n",
    "        print(w1.shape, dw1.shape)\n",
    "        # update\n",
    "        lr = 0.1 / num_samples if step < 5000 else 0.01 / num_samples\n",
    "        w1, b1, w2, b2 = update(w1, b1, w2, b2, dw1, db1, dw2, db2, lr)\n",
    "        if step % 100 == 0: print(f'step = {step}, loss = {lsi}')\n",
    "        lossi.append(lsi.item())\n",
    "    # compute accuracy\n",
    "    _, _, _, preds = forward(w1, b1, w2, b2, train_input)\n",
    "    train_accuracy = compute_accuracy(preds, train_target)\n",
    "    _, _, _, preds = forward(w1, b1, w2, b2, test_input)\n",
    "    test_accuracy = compute_accuracy(preds, test_target)\n",
    "    print(f'{train_accuracy=}')\n",
    "    print(f'{test_accuracy=}')\n",
    "    return lossi\n"
   ]
  },
  {
   "cell_type": "code",
   "execution_count": 375,
   "metadata": {},
   "outputs": [
    {
     "name": "stdout",
     "output_type": "stream",
     "text": [
      "step = 0, loss = 809.9996948242188\n",
      "step = 100, loss = 354.7684326171875\n",
      "step = 200, loss = 197.4700164794922\n",
      "step = 300, loss = 140.02499389648438\n",
      "step = 400, loss = 133.54147338867188\n",
      "step = 500, loss = 90.13886260986328\n",
      "step = 600, loss = 83.04899597167969\n",
      "step = 700, loss = 71.0525131225586\n",
      "step = 800, loss = 58.850067138671875\n",
      "step = 900, loss = 55.92335510253906\n",
      "step = 1000, loss = 64.59211730957031\n",
      "step = 1100, loss = 44.270347595214844\n",
      "step = 1200, loss = 57.44610595703125\n",
      "step = 1300, loss = 46.97384262084961\n",
      "step = 1400, loss = 44.86290740966797\n",
      "step = 1500, loss = 38.646968841552734\n",
      "step = 1600, loss = 35.984458923339844\n",
      "step = 1700, loss = 35.084529876708984\n",
      "step = 1800, loss = 32.5633544921875\n",
      "step = 1900, loss = 42.53522491455078\n",
      "step = 2000, loss = 31.626054763793945\n",
      "step = 2100, loss = 29.459714889526367\n",
      "step = 2200, loss = 24.623220443725586\n",
      "step = 2300, loss = 25.00797462463379\n",
      "step = 2400, loss = 22.848424911499023\n",
      "step = 2500, loss = 27.087385177612305\n",
      "step = 2600, loss = 23.166339874267578\n",
      "step = 2700, loss = 26.17279052734375\n",
      "step = 2800, loss = 24.213699340820312\n",
      "step = 2900, loss = 20.721271514892578\n",
      "step = 3000, loss = 23.47557258605957\n",
      "step = 3100, loss = 20.084529876708984\n",
      "step = 3200, loss = 22.139894485473633\n",
      "step = 3300, loss = 21.455923080444336\n",
      "step = 3400, loss = 19.785552978515625\n",
      "step = 3500, loss = 17.82563591003418\n",
      "step = 3600, loss = 18.540586471557617\n",
      "step = 3700, loss = 17.94222640991211\n",
      "step = 3800, loss = 13.771258354187012\n",
      "step = 3900, loss = 17.950725555419922\n",
      "step = 4000, loss = 20.63808822631836\n",
      "step = 4100, loss = 14.904019355773926\n",
      "step = 4200, loss = 13.659150123596191\n",
      "step = 4300, loss = 15.530058860778809\n",
      "step = 4400, loss = 14.910825729370117\n",
      "step = 4500, loss = 11.291154861450195\n",
      "step = 4600, loss = 13.666206359863281\n",
      "step = 4700, loss = 11.486043930053711\n",
      "step = 4800, loss = 11.660921096801758\n",
      "step = 4900, loss = 10.561511993408203\n",
      "step = 5000, loss = 11.566272735595703\n",
      "step = 5100, loss = 8.778231620788574\n",
      "step = 5200, loss = 11.110965728759766\n",
      "step = 5300, loss = 11.807327270507812\n",
      "step = 5400, loss = 7.843202114105225\n",
      "step = 5500, loss = 9.9878511428833\n",
      "step = 5600, loss = 10.213613510131836\n",
      "step = 5700, loss = 10.362289428710938\n",
      "step = 5800, loss = 6.806562900543213\n",
      "step = 5900, loss = 10.338220596313477\n",
      "step = 6000, loss = 10.21402645111084\n",
      "step = 6100, loss = 8.720623016357422\n",
      "step = 6200, loss = 11.218378067016602\n",
      "step = 6300, loss = 7.043633460998535\n",
      "step = 6400, loss = 8.323593139648438\n",
      "step = 6500, loss = 7.726232051849365\n",
      "step = 6600, loss = 6.9528985023498535\n",
      "step = 6700, loss = 6.459108352661133\n",
      "step = 6800, loss = 7.925106525421143\n",
      "step = 6900, loss = 11.727283477783203\n",
      "step = 7000, loss = 8.743717193603516\n",
      "step = 7100, loss = 7.308007717132568\n",
      "step = 7200, loss = 6.191831111907959\n",
      "step = 7300, loss = 7.636477470397949\n",
      "step = 7400, loss = 11.393033027648926\n",
      "step = 7500, loss = 6.123279094696045\n",
      "step = 7600, loss = 8.118247985839844\n",
      "step = 7700, loss = 7.909384250640869\n",
      "step = 7800, loss = 7.207240104675293\n",
      "step = 7900, loss = 6.235697269439697\n",
      "step = 8000, loss = 5.630746364593506\n",
      "step = 8100, loss = 7.1178998947143555\n",
      "step = 8200, loss = 6.807994842529297\n",
      "step = 8300, loss = 6.756340503692627\n",
      "step = 8400, loss = 6.840575218200684\n",
      "step = 8500, loss = 5.35241174697876\n",
      "step = 8600, loss = 5.7641401290893555\n",
      "step = 8700, loss = 8.328054428100586\n",
      "step = 8800, loss = 5.248250484466553\n",
      "step = 8900, loss = 3.716463804244995\n",
      "step = 9000, loss = 5.215934753417969\n",
      "step = 9100, loss = 9.606609344482422\n",
      "step = 9200, loss = 3.9078140258789062\n",
      "step = 9300, loss = 5.011075973510742\n",
      "step = 9400, loss = 5.714970588684082\n",
      "step = 9500, loss = 6.814319133758545\n",
      "step = 9600, loss = 3.3994102478027344\n",
      "step = 9700, loss = 4.8285369873046875\n",
      "step = 9800, loss = 4.310892581939697\n",
      "step = 9900, loss = 8.682360649108887\n",
      "train_accuracy=1.0\n",
      "test_accuracy=0.8220000267028809\n"
     ]
    }
   ],
   "source": [
    "lossi = train(w1, b1, w2, b2)\n"
   ]
  },
  {
   "cell_type": "code",
   "execution_count": 376,
   "metadata": {},
   "outputs": [
    {
     "data": {
      "text/plain": [
       "[<matplotlib.lines.Line2D at 0x7ff25cc24880>]"
      ]
     },
     "execution_count": 376,
     "metadata": {},
     "output_type": "execute_result"
    },
    {
     "data": {
      "image/png": "[encoded data removed]",
      "text/plain": [
       "<Figure size 640x480 with 1 Axes>"
      ]
     },
     "metadata": {},
     "output_type": "display_data"
    }
   ],
   "source": [
    "plt.plot(lossi)\n",
    "#print(lossi)"
   ]
  },
  {
   "cell_type": "markdown",
   "metadata": {},
   "source": [
    "### Step 2: Reference implementation using pytorch's .backward()\n",
    "Nothing to do in Step 2, this code is provided for you as a reference"
   ]
  },
  {
   "cell_type": "code",
   "execution_count": 377,
   "metadata": {},
   "outputs": [],
   "source": [
    "w1, b1, w2, b2 = init()\n",
    "parameters = [w1, b1, w2, b2]\n",
    "for p in parameters:\n",
    "    p.requires_grad_(True)"
   ]
  },
  {
   "cell_type": "code",
   "execution_count": 378,
   "metadata": {},
   "outputs": [
    {
     "data": {
      "text/plain": [
       "(torch.Size([1000, 784]), torch.Size([1000, 10]))"
      ]
     },
     "execution_count": 378,
     "metadata": {},
     "output_type": "execute_result"
    }
   ],
   "source": [
    "train_input.shape, train_target.shape"
   ]
  },
  {
   "cell_type": "code",
   "execution_count": 379,
   "metadata": {},
   "outputs": [],
   "source": [
    "# reference code\n",
    "torch.set_printoptions(linewidth=200)\n",
    "import torch.nn as F\n",
    "\n",
    "def train(w1, b1, w2, b2):\n",
    "    lossi = []\n",
    "    for step in range(10000):\n",
    "        xb = train_input\n",
    "        yb = train_target\n",
    "        num_samples = xb.shape[0]\n",
    "        # forward\n",
    "        z1, h1, z2, h2 = forward(w1, b1, w2, b2, xb)\n",
    "        xloss = F.MSELoss()\n",
    "        lsi = xloss(h2, yb) * yb.nelement()\n",
    "        # backward\n",
    "        for p in parameters:\n",
    "            p.grad = None\n",
    "        lsi.backward()\n",
    "        # update\n",
    "        lr = 0.1 / num_samples\n",
    "        for p in parameters:\n",
    "            p.data += -lr * p.grad\n",
    "        if step % 100 == 0: print(f'step = {step}, loss = {lsi}')\n",
    "        lossi.append(lsi.item())\n",
    "    # compute accuracy\n",
    "    _, _, _, preds = forward(w1, b1, w2, b2, train_input)\n",
    "    train_accuracy = compute_accuracy(preds, train_target)\n",
    "    _, _, _, preds = forward(w1, b1, w2, b2, test_input)\n",
    "    test_accuracy = compute_accuracy(preds, test_target)\n",
    "    print(f'{train_accuracy=}')\n",
    "    print(f'{test_accuracy=}')\n",
    "    return lossi"
   ]
  },
  {
   "cell_type": "code",
   "execution_count": 380,
   "metadata": {},
   "outputs": [
    {
     "name": "stdout",
     "output_type": "stream",
     "text": [
      "step = 0, loss = 809.9999389648438\n",
      "step = 100, loss = 376.9007568359375\n",
      "step = 200, loss = 232.30006408691406\n",
      "step = 300, loss = 146.78643798828125\n",
      "step = 400, loss = 105.31110382080078\n",
      "step = 500, loss = 109.19357299804688\n",
      "step = 600, loss = 77.50238800048828\n",
      "step = 700, loss = 67.4498519897461\n",
      "step = 800, loss = 56.967613220214844\n",
      "step = 900, loss = 50.97842025756836\n",
      "step = 1000, loss = 42.40766143798828\n",
      "step = 1100, loss = 44.74934005737305\n",
      "step = 1200, loss = 34.07716369628906\n",
      "step = 1300, loss = 42.0624885559082\n",
      "step = 1400, loss = 43.334293365478516\n",
      "step = 1500, loss = 35.15777587890625\n",
      "step = 1600, loss = 31.19450569152832\n",
      "step = 1700, loss = 42.97434997558594\n",
      "step = 1800, loss = 25.806554794311523\n",
      "step = 1900, loss = 22.062623977661133\n",
      "step = 2000, loss = 30.207263946533203\n",
      "step = 2100, loss = 19.052846908569336\n",
      "step = 2200, loss = 28.467117309570312\n",
      "step = 2300, loss = 22.306114196777344\n",
      "step = 2400, loss = 21.412532806396484\n",
      "step = 2500, loss = 22.788036346435547\n",
      "step = 2600, loss = 21.522432327270508\n",
      "step = 2700, loss = 19.22905921936035\n",
      "step = 2800, loss = 20.161964416503906\n",
      "step = 2900, loss = 16.82590103149414\n",
      "step = 3000, loss = 23.517812728881836\n",
      "step = 3100, loss = 13.880565643310547\n",
      "step = 3200, loss = 15.939620018005371\n",
      "step = 3300, loss = 20.701480865478516\n",
      "step = 3400, loss = 12.065977096557617\n",
      "step = 3500, loss = 18.32668113708496\n",
      "step = 3600, loss = 10.263887405395508\n",
      "step = 3700, loss = 13.51075267791748\n",
      "step = 3800, loss = 14.448883056640625\n",
      "step = 3900, loss = 16.551006317138672\n",
      "step = 4000, loss = 13.895988464355469\n",
      "step = 4100, loss = 13.626546859741211\n",
      "step = 4200, loss = 15.992940902709961\n",
      "step = 4300, loss = 8.049114227294922\n",
      "step = 4400, loss = 13.98196792602539\n",
      "step = 4500, loss = 12.585511207580566\n",
      "step = 4600, loss = 7.639543056488037\n",
      "step = 4700, loss = 10.914015769958496\n",
      "step = 4800, loss = 12.710285186767578\n",
      "step = 4900, loss = 11.0985107421875\n",
      "step = 5000, loss = 9.026162147521973\n",
      "step = 5100, loss = 7.0049567222595215\n",
      "step = 5200, loss = 11.725578308105469\n",
      "step = 5300, loss = 12.176393508911133\n",
      "step = 5400, loss = 9.934372901916504\n",
      "step = 5500, loss = 9.333784103393555\n",
      "step = 5600, loss = 6.989064693450928\n",
      "step = 5700, loss = 9.40190315246582\n",
      "step = 5800, loss = 9.28608512878418\n",
      "step = 5900, loss = 11.336359977722168\n",
      "step = 6000, loss = 10.78769302368164\n",
      "step = 6100, loss = 8.813665390014648\n",
      "step = 6200, loss = 7.966431617736816\n",
      "step = 6300, loss = 12.385152816772461\n",
      "step = 6400, loss = 10.83613109588623\n",
      "step = 6500, loss = 8.052589416503906\n",
      "step = 6600, loss = 5.396091938018799\n",
      "step = 6700, loss = 10.49642562866211\n",
      "step = 6800, loss = 8.620133399963379\n",
      "step = 6900, loss = 6.115104675292969\n",
      "step = 7000, loss = 8.318779945373535\n",
      "step = 7100, loss = 8.239891052246094\n",
      "step = 7200, loss = 8.38864803314209\n",
      "step = 7300, loss = 7.272288799285889\n",
      "step = 7400, loss = 6.136080265045166\n",
      "step = 7500, loss = 6.574738025665283\n",
      "step = 7600, loss = 5.2585835456848145\n",
      "step = 7700, loss = 7.732774257659912\n",
      "step = 7800, loss = 6.392249584197998\n",
      "step = 7900, loss = 4.426421642303467\n",
      "step = 8000, loss = 5.895557880401611\n",
      "step = 8100, loss = 5.246583461761475\n",
      "step = 8200, loss = 4.951607704162598\n",
      "step = 8300, loss = 5.381957530975342\n",
      "step = 8400, loss = 5.208040714263916\n",
      "step = 8500, loss = 6.27251672744751\n",
      "step = 8600, loss = 4.498022079467773\n",
      "step = 8700, loss = 5.067759990692139\n",
      "step = 8800, loss = 7.32950496673584\n",
      "step = 8900, loss = 6.431611061096191\n",
      "step = 9000, loss = 4.500378131866455\n",
      "step = 9100, loss = 4.9431047439575195\n",
      "step = 9200, loss = 4.571524620056152\n",
      "step = 9300, loss = 7.64712381362915\n",
      "step = 9400, loss = 3.9133408069610596\n",
      "step = 9500, loss = 7.325196266174316\n",
      "step = 9600, loss = 3.076770782470703\n",
      "step = 9700, loss = 3.963391065597534\n",
      "step = 9800, loss = 4.508515357971191\n",
      "step = 9900, loss = 7.360423564910889\n",
      "train_accuracy=1.0\n",
      "test_accuracy=0.8119999766349792\n"
     ]
    }
   ],
   "source": [
    "lossi = train(w1, b1, w2, b2)"
   ]
  },
  {
   "cell_type": "code",
   "execution_count": 381,
   "metadata": {},
   "outputs": [
    {
     "data": {
      "text/plain": [
       "[<matplotlib.lines.Line2D at 0x7ff25bcc3d00>]"
      ]
     },
     "execution_count": 381,
     "metadata": {},
     "output_type": "execute_result"
    },
    {
     "data": {
      "image/png": "[encoded data removed]",
      "text/plain": [
       "<Figure size 640x480 with 1 Axes>"
      ]
     },
     "metadata": {},
     "output_type": "display_data"
    }
   ],
   "source": [
    "plt.plot(lossi)"
   ]
  },
  {
   "cell_type": "markdown",
   "metadata": {},
   "source": [
    "### Step 3: Build the same MLP layer but with fully pytorch code (nn.Linear(), etc.)"
   ]
  },
  {
   "cell_type": "code",
   "execution_count": 382,
   "metadata": {},
   "outputs": [],
   "source": [
    "# network dimensions\n",
    "n_in = 784\n",
    "n_hidden = 200\n",
    "n_out = 10"
   ]
  },
  {
   "cell_type": "code",
   "execution_count": 383,
   "metadata": {},
   "outputs": [],
   "source": [
    "X_tr, Y_tr = train_input, train_target\n",
    "X_test, Y_test = test_input, test_target"
   ]
  },
  {
   "cell_type": "code",
   "execution_count": 384,
   "metadata": {},
   "outputs": [],
   "source": [
    "class MLP(nn.Module):\n",
    "\n",
    "    def __init__(self):\n",
    "        super().__init__()\n",
    "        self.layers = nn.ModuleList((\n",
    "            nn.Linear(n_in, n_hidden),\n",
    "            nn.Tanh(),\n",
    "            nn.Linear(n_hidden, n_out),\n",
    "            nn.Tanh()\n",
    "        ))\n",
    "\n",
    "    def __call__(self, x):\n",
    "        for layer in self.layers:\n",
    "            x = layer(x)\n",
    "        return x\n",
    "    \n",
    "    def __parameters__(self):\n",
    "        return [p for layer in self.layers for p in layer.parameters]\n",
    "\n",
    "model = MLP()\n",
    "optimizer = torch.optim.AdamW(model.parameters(), lr=1e-3)\n",
    "loss_fn = nn.MSELoss()"
   ]
  },
  {
   "cell_type": "code",
   "execution_count": 329,
   "metadata": {},
   "outputs": [
    {
     "name": "stdout",
     "output_type": "stream",
     "text": [
      "step =      0\tloss=0.14783\taccuracy (train, test): 0.06200\t0.25100\n",
      "step =   1000\tloss=0.00011\taccuracy (train, test): 1.00000\t0.88000\n",
      "step =   2000\tloss=0.00019\taccuracy (train, test): 1.00000\t0.87800\n",
      "step =   3000\tloss=0.00002\taccuracy (train, test): 1.00000\t0.87800\n",
      "step =   4000\tloss=0.00003\taccuracy (train, test): 1.00000\t0.88100\n",
      "step =   5000\tloss=0.00007\taccuracy (train, test): 1.00000\t0.88300\n",
      "step =   6000\tloss=0.00029\taccuracy (train, test): 1.00000\t0.87600\n",
      "step =   7000\tloss=0.00003\taccuracy (train, test): 1.00000\t0.87200\n",
      "step =   8000\tloss=0.00003\taccuracy (train, test): 1.00000\t0.87000\n",
      "step =   9000\tloss=0.00007\taccuracy (train, test): 1.00000\t0.87300\n"
     ]
    }
   ],
   "source": [
    "# training\n",
    "num_epochs = 10000\n",
    "\n",
    "for n in range(num_epochs):\n",
    "    y_pred = model(X_tr)\n",
    "    loss = loss_fn(y_pred, Y_tr)\n",
    "    optimizer.zero_grad()\n",
    "    loss.backward()\n",
    "    optimizer.step()\n",
    "    if n % 1000 == 0: \n",
    "        with torch.no_grad():\n",
    "            # train accuracy\n",
    "            acc_train = compute_accuracy(y_pred, Y_tr)\n",
    "            # test accuracy\n",
    "            y_test_preds = model(X_test)\n",
    "            acc_test = compute_accuracy(y_test_preds, Y_test)\n",
    "            print(f'step = {n:6d}\\tloss={loss.item():.5f}\\taccuracy (train, test): {acc_train:.5f}\\t{acc_test:.5f}')\n",
    "\n",
    "\n"
   ]
  },
  {
   "cell_type": "markdown",
   "metadata": {},
   "source": [
    "##### Exercise: try to improve accuracy!"
   ]
  },
  {
   "cell_type": "code",
   "execution_count": 390,
   "metadata": {},
   "outputs": [],
   "source": [
    "# we now try to improve the accuracy of the model using several techniques seen in the lecture:\n",
    "\n",
    "# - we use a batch normalization layer\n",
    "# - we use a different optimizer (Adam)\n",
    "# - we use a different activation function (ReLU)\n",
    "# - we use a different weight initialization scheme (He)\n",
    "# - we add a dropout layer\n",
    "\n",
    "class MLP_improved(nn.Module):\n",
    "    \n",
    "    def __init__(self):\n",
    "        super().__init__()\n",
    "        self.layers = nn.ModuleList((\n",
    "            nn.Linear(n_in, n_hidden),\n",
    "            nn.BatchNorm1d(n_hidden), # batch normalization\n",
    "            nn.ReLU(),\n",
    "            nn.Dropout(0.2), # 20% dropout\n",
    "            nn.Linear(n_hidden, n_out),\n",
    "            nn.BatchNorm1d(n_out), # batch normalization\n",
    "            nn.ReLU()\n",
    "            ))\n",
    "        # weight initialization\n",
    "        for layer in self.layers:\n",
    "            if isinstance(layer, nn.Linear):\n",
    "                nn.init.kaiming_normal_(layer.weight, nonlinearity='relu') # He initialization\n",
    "                nn.init.zeros_(layer.bias) # set bias to zero\n",
    "\n",
    "    def __call__(self, x):\n",
    "        for layer in self.layers:\n",
    "            x = layer(x)\n",
    "        return x\n",
    "    \n",
    "\n",
    "model = MLP_improved()\n",
    "optimizer = torch.optim.Adam(model.parameters(), lr=1e-3)\n",
    "loss_fn = nn.MSELoss()"
   ]
  },
  {
   "cell_type": "code",
   "execution_count": 391,
   "metadata": {},
   "outputs": [
    {
     "name": "stdout",
     "output_type": "stream",
     "text": [
      "step =      0\tloss=0.51303\taccuracy (train, test): 0.13300\t0.19300\n",
      "step =   1000\tloss=0.00149\taccuracy (train, test): 0.99600\t0.81500\n",
      "step =   2000\tloss=0.00085\taccuracy (train, test): 0.99600\t0.82100\n",
      "step =   3000\tloss=0.00059\taccuracy (train, test): 0.99600\t0.82100\n",
      "step =   4000\tloss=0.00039\taccuracy (train, test): 0.99700\t0.83300\n",
      "step =   5000\tloss=0.00035\taccuracy (train, test): 0.99700\t0.82700\n",
      "step =   6000\tloss=0.00060\taccuracy (train, test): 0.99700\t0.82500\n",
      "step =   7000\tloss=0.00028\taccuracy (train, test): 0.99700\t0.82300\n",
      "step =   8000\tloss=0.00032\taccuracy (train, test): 0.99700\t0.81400\n",
      "step =   9000\tloss=0.00029\taccuracy (train, test): 0.99700\t0.81200\n"
     ]
    }
   ],
   "source": [
    "# training\n",
    "num_epochs = 10000\n",
    "\n",
    "for n in range(num_epochs):\n",
    "    y_pred = model(X_tr)\n",
    "    loss = loss_fn(y_pred, Y_tr)\n",
    "    optimizer.zero_grad()\n",
    "    loss.backward()\n",
    "    optimizer.step()\n",
    "    if n % 1000 == 0: \n",
    "        with torch.no_grad():\n",
    "            # train accuracy\n",
    "            acc_train = compute_accuracy(y_pred, Y_tr)\n",
    "            # test accuracy\n",
    "            y_test_preds = model(X_test)\n",
    "            acc_test = compute_accuracy(y_test_preds, Y_test)\n",
    "            print(f'step = {n:6d}\\tloss={loss.item():.5f}\\taccuracy (train, test): {acc_train:.5f}\\t{acc_test:.5f}')"
   ]
  },
  {
   "cell_type": "code",
   "execution_count": 392,
   "metadata": {},
   "outputs": [],
   "source": [
    "# I observe that the accuracy is not much better than with the previous model. This is because the dataset is simple and the model is already quite good.\n",
    "# Moreover, the dropout and regularization techniques do not help improving the accuracy in this case, they are more useful when the model is overfitting."
   ]
  }
 ],
 "metadata": {
  "kernelspec": {
   "display_name": "env",
   "language": "python",
   "name": "python3"
  },
  "language_info": {
   "codemirror_mode": {
    "name": "ipython",
    "version": 3
   },
   "file_extension": ".py",
   "mimetype": "text/x-python",
   "name": "python",
   "nbconvert_exporter": "python",
   "pygments_lexer": "ipython3",
   "version": "3.10.13"
  }
 },
 "nbformat": 4,
 "nbformat_minor": 2
}
